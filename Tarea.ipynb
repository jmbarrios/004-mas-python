{
 "cells": [
  {
   "cell_type": "markdown",
   "metadata": {
    "id": "C7T_ieq9dnYC"
   },
   "source": [
    "# Tarea Python"
   ]
  },
  {
   "cell_type": "markdown",
   "metadata": {
    "id": "95Q2vV5Ld48J"
   },
   "source": [
    "## Problema 1\n",
    "### Método de la secante\n",
    "### (3 puntos)\n",
    "\n",
    "El método de la secante es otro método para encontrar una raíz de una función $f$ en un intervalo. Dados dos puntos $x_0, x_1$ tales que $f(x_0)f(x_1) < 0$, i.e. $f(x_0)$ y $f(x_1)$ tienen signos distintos, se construye la recta que une $f(x_0)$ y $f(x_1)$ después se encuentra la raíz (donde la recta cruza el valor 0) para la recta, este es el punto $x_2$. Ahora se repite el procedimiento con los puntos $x_1, x_2$ de construir la recta y encontrar la raíz que será la aproximación $x_3$. \n",
    "\n",
    "![Secant method](https://upload.wikimedia.org/wikipedia/commons/thumb/9/92/Secant_method.svg/256px-Secant_method.svg.png)\n",
    "\n",
    "En general se tiene que \n",
    "$$\n",
    "x_n\n",
    " = x_{n-1} - f(x_{n-1}) \\frac{x_{n-1} - x_{n-2}}{f(x_{n-1}) - f(x_{n-2})}\n",
    "$$\n",
    "\n",
    "En este ejercicio se debe de implementar el método de la secante en una función que reciba, la función la cual queremos encontrar la raíz, los valores x_0 y x_1, y una toleracia (es decir $|f(x_n)|<\\textrm{TOL}$).\n",
    "\n",
    "Además resolver la siguiente ecuación:\n",
    "$$\n",
    "\\cos(x) = x\n",
    "$$"
   ]
  },
  {
   "cell_type": "code",
   "execution_count": null,
   "metadata": {
    "id": "dRVpsbY2mlaY"
   },
   "outputs": [],
   "source": [
    "# hw6003 004\n",
    "def encontrar_raiz(f, x0, x1, tol):\n",
    "    \"\"\" Encuentra la raíz de una función usando el método de la secante\n",
    "\n",
    "    Args:\n",
    "        f (callable): función para encontrar raíz\n",
    "        x0 (float): primer punto inicial\n",
    "        x1 (float): segundo punto inicial\n",
    "        tol (tol): toleracia aceptada en la aproximación de la raíz\n",
    "\n",
    "    Returns:\n",
    "        float: valor de la raíz de la función\n",
    "\n",
    "    Raises:\n",
    "        ArithmeticError: en caso de que el valor de la función en los puntos \n",
    "                         inciales no cumplan que son de signos distintos\n",
    "    \"\"\"\n",
    "    pass"
   ]
  },
  {
   "cell_type": "code",
   "execution_count": null,
   "metadata": {
    "id": "kWeltHZWpYYu"
   },
   "outputs": [],
   "source": []
  },
  {
   "cell_type": "code",
   "execution_count": null,
   "metadata": {
    "id": "k3kRF3lToyau"
   },
   "outputs": [],
   "source": [
    "# hw6003 004\n",
    "def resuelve_ecuacion():\n",
    "    \"\"\" Encuentra la solución de la ecuación cos(x) = x\n",
    "\n",
    "    Returns:\n",
    "        float: resultado de la solución a la ecuación\n",
    "    \"\"\"\n",
    "    pass"
   ]
  },
  {
   "cell_type": "code",
   "execution_count": null,
   "metadata": {
    "id": "s-EPQVKbpZnl"
   },
   "outputs": [],
   "source": []
  },
  {
   "cell_type": "markdown",
   "metadata": {
    "id": "XDgnfBPeikas"
   },
   "source": [
    "### Extra\n",
    "### (1 punto)\n",
    "\n",
    "Considerar cuando los valores de la función para los puntos inciales no cumplen con tener signo distinto, en ese caso debe de alertar al usuario con un `ArithmeticError` y el mensaje `No se cumple que f(x0)f(x1)<0`."
   ]
  },
  {
   "cell_type": "markdown",
   "metadata": {
    "id": "jtuu2ePumkBx"
   },
   "source": [
    "## Problema 2\n",
    "### (2 puntos)\n",
    "\n",
    "Crear un función que calcule los números primos que sean menores de un número dado.\n",
    "\n",
    "Por ejemplo: `primos_menores_que(14) -> np.array([2, 3, 5, 7, 11, 13])`\n",
    "\n"
   ]
  },
  {
   "cell_type": "code",
   "execution_count": null,
   "metadata": {
    "id": "RiU1YUVZ0DQR"
   },
   "outputs": [],
   "source": [
    "# hw6003 004\n",
    "def primos_menores_que(n):\n",
    "    \"\"\" regresa un arreglo con los primos menores que n\n",
    "\n",
    "    Args:\n",
    "        n (int): número para encontrar los primos menores que este\n",
    "\n",
    "    Returns:\n",
    "        list: arreglo con los primos menores que n\n",
    "    \"\"\"\n",
    "    pass"
   ]
  },
  {
   "cell_type": "code",
   "execution_count": null,
   "metadata": {
    "id": "HdasX5Ai0tXB"
   },
   "outputs": [],
   "source": []
  },
  {
   "cell_type": "markdown",
   "metadata": {
    "id": "-GvhrqO914Jy"
   },
   "source": [
    "## Problema 3\n",
    "### Cambio de base\n",
    "### (2 puntos)\n",
    "\n",
    "Un conjunto de vectores en $\\mathbb{R}^2$, $\\{\\vec b_1, \\vec b_2\\}$, es una base si es un conjunto de dos elementos linealmente independientes, esto es uno no puede ser expresado como $\\vec b_2 = \\alpha\\vec b_1$. Una propiedad que tienen las bases es que cualquier vector de $\\mathbb{R}^2$ se puede escribir como:\n",
    "$$\n",
    "    \\vec v = \\alpha_1 \\vec b_1 + \\alpha_2 \\vec b_2\n",
    "$$ \n",
    "a esto se le dice que cualquier vector del espacio vectorial es combinación lineal de elementos de la base.\n",
    "\n",
    "La base con vectores $\\{(1,0), (0, 1)\\}$ se le llama la base canónica y podemos ver que se cumple la propiedad de poder expresar cualquier vector como combinación lineal de estos vectores\n",
    "$$\n",
    " (x, y) = x (1, 0) + y (0, 1)\n",
    "$$\n",
    "\n",
    "Notemos que también el conjunto $V_2 = \\{(2, 3), (0, 5)\\}$ es una base. Tomemos el vector $(6, 14)$ podemos ver que este vector lo podemos expresar como \n",
    "$$\n",
    "(6, 14) = 3(2, 3)+1(0,5)\n",
    "$$  \n",
    "se dice que el vector $(6, 14)$ corresponde al vector $(3, 1)$ de la base $V_2$, a esto se le llama cambio de base entre la canónica y la base $V_2$, o el vector $(3, 1)$ en la base $V_2$ corresponde al vector $(6, 14)$ de la base canónica.\n",
    "\n",
    "Ahora tienen que crear una función que haga el cambio de base de un vector de una base dada a la base canónica.\n",
    "\n",
    "**Sugerencia:** (https://en.wikipedia.org/wiki/Change_of_basis#Example)\n",
    "Si quieren también pueden ver el video sobre este tema de [3blue1brown](https://youtu.be/P2LTAUO1TdA).\n"
   ]
  },
  {
   "cell_type": "code",
   "execution_count": null,
   "metadata": {
    "id": "TaYsRkP8BXUM"
   },
   "outputs": [],
   "source": [
    "# hw6003 004\n",
    "def cambio_de_base(base, vector):\n",
    "    \"\"\" cambia el vector de la base dada a la base canónica\n",
    "\n",
    "    Args:\n",
    "        base (np.ndarray(n, n)): base de origen del vector, el primer renglón \n",
    "                                 son las coordenadas x y el segundo las y.\n",
    "        vector (np.ndarray(n, 1)): vector a ser transformado\n",
    "\n",
    "    Returns: \n",
    "        np.ndarray(n, 1): vector escrito con respecto a la base canónica.\n",
    "    \"\"\"\n",
    "    pass  "
   ]
  },
  {
   "cell_type": "code",
   "execution_count": null,
   "metadata": {
    "id": "ouKEP5i-SXxC"
   },
   "outputs": [],
   "source": []
  },
  {
   "cell_type": "markdown",
   "metadata": {
    "id": "-A7eIEwASXYA"
   },
   "source": [
    "## Problema 4\n",
    "### (3 puntos)\n",
    "\n",
    "**Este problema será evaluando manualmente**\n",
    "\n",
    "Hay dos opciones para este problema:\n",
    "\n",
    "1. Dibujar el triángulo de Sierpinsky o\n",
    "2. hacer una simulación del tiro parábolico.\n",
    "\n",
    "En ambos casos se debe de generar un nuevo notebook de Python con la solución, este también debe de estar guardado en el repositorio. \n",
    "Todas las funciones que se escriban deben de estar documentadas. \n"
   ]
  }
 ],
 "metadata": {
  "colab": {
   "collapsed_sections": [],
   "name": "Tarea.ipynb",
   "provenance": []
  },
  "kernelspec": {
   "display_name": "Python 3 (ipykernel)",
   "language": "python",
   "name": "python3"
  },
  "language_info": {
   "codemirror_mode": {
    "name": "ipython",
    "version": 3
   },
   "file_extension": ".py",
   "mimetype": "text/x-python",
   "name": "python",
   "nbconvert_exporter": "python",
   "pygments_lexer": "ipython3",
   "version": "3.10.1"
  }
 },
 "nbformat": 4,
 "nbformat_minor": 4
}
